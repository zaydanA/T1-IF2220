{
 "cells": [
  {
   "attachments": {},
   "cell_type": "markdown",
   "metadata": {},
   "source": [
    "# Penarikan Kesimpulan dan Pengujian Hipotesis"
   ]
  },
  {
   "cell_type": "code",
   "execution_count": 90,
   "metadata": {},
   "outputs": [],
   "source": [
    "import pandas as pd\n",
    "import matplotlib.pyplot as plt\n",
    "import numpy as np\n",
    "from IPython.display import display, Markdown\n",
    "from scipy.stats import normaltest\n",
    "from scipy.stats import norm\n",
    "import scipy.stats as st\n",
    "from statsmodels.stats.weightstats import ztest\n",
    "from statsmodels.stats.proportion import proportions_ztest\n",
    "\n",
    "\n",
    "df=pd.read_csv(\"anggur.csv\")"
   ]
  },
  {
   "attachments": {},
   "cell_type": "markdown",
   "metadata": {},
   "source": [
    "# Deskripsi Statistika"
   ]
  },
  {
   "attachments": {},
   "cell_type": "markdown",
   "metadata": {},
   "source": [
    "### Mean, Median, Standar Deviasi, Variansi, Range, Nilai Minimum, Nilai Maksimum, Kuartil 1, Kuartil 2, Kuartil 3, IQR, Skewness, Kurtosis"
   ]
  },
  {
   "cell_type": "code",
   "execution_count": 91,
   "metadata": {},
   "outputs": [
    {
     "data": {
      "text/html": [
       "<div>\n",
       "<style scoped>\n",
       "    .dataframe tbody tr th:only-of-type {\n",
       "        vertical-align: middle;\n",
       "    }\n",
       "\n",
       "    .dataframe tbody tr th {\n",
       "        vertical-align: top;\n",
       "    }\n",
       "\n",
       "    .dataframe thead th {\n",
       "        text-align: right;\n",
       "    }\n",
       "</style>\n",
       "<table border=\"1\" class=\"dataframe\">\n",
       "  <thead>\n",
       "    <tr style=\"text-align: right;\">\n",
       "      <th></th>\n",
       "      <th>Mean</th>\n",
       "      <th>Media</th>\n",
       "      <th>Standar Deviasi</th>\n",
       "      <th>Variansi</th>\n",
       "      <th>Range</th>\n",
       "      <th>Min</th>\n",
       "      <th>Max</th>\n",
       "      <th>Q1</th>\n",
       "      <th>Q2</th>\n",
       "      <th>Q3</th>\n",
       "      <th>IQR</th>\n",
       "      <th>Skewness</th>\n",
       "      <th>Kurtosis</th>\n",
       "    </tr>\n",
       "  </thead>\n",
       "  <tbody>\n",
       "    <tr>\n",
       "      <th>fixed acidity</th>\n",
       "      <td>7.152530</td>\n",
       "      <td>7.150000</td>\n",
       "      <td>1.201598</td>\n",
       "      <td>1.443837</td>\n",
       "      <td>8.170000</td>\n",
       "      <td>3.320000</td>\n",
       "      <td>11.490000</td>\n",
       "      <td>6.377500</td>\n",
       "      <td>7.150000</td>\n",
       "      <td>8.000000</td>\n",
       "      <td>1.622500</td>\n",
       "      <td>-0.028879</td>\n",
       "      <td>-0.019292</td>\n",
       "    </tr>\n",
       "    <tr>\n",
       "      <th>volatile acidity</th>\n",
       "      <td>0.520838</td>\n",
       "      <td>0.524850</td>\n",
       "      <td>0.095848</td>\n",
       "      <td>0.009187</td>\n",
       "      <td>0.665200</td>\n",
       "      <td>0.139900</td>\n",
       "      <td>0.805100</td>\n",
       "      <td>0.456100</td>\n",
       "      <td>0.524850</td>\n",
       "      <td>0.585375</td>\n",
       "      <td>0.129275</td>\n",
       "      <td>-0.197699</td>\n",
       "      <td>0.161853</td>\n",
       "    </tr>\n",
       "    <tr>\n",
       "      <th>citric acid</th>\n",
       "      <td>0.270517</td>\n",
       "      <td>0.272200</td>\n",
       "      <td>0.049098</td>\n",
       "      <td>0.002411</td>\n",
       "      <td>0.292900</td>\n",
       "      <td>0.116700</td>\n",
       "      <td>0.409600</td>\n",
       "      <td>0.237800</td>\n",
       "      <td>0.272200</td>\n",
       "      <td>0.302325</td>\n",
       "      <td>0.064525</td>\n",
       "      <td>-0.045576</td>\n",
       "      <td>-0.104679</td>\n",
       "    </tr>\n",
       "    <tr>\n",
       "      <th>residual sugar</th>\n",
       "      <td>2.567104</td>\n",
       "      <td>2.519430</td>\n",
       "      <td>0.987915</td>\n",
       "      <td>0.975977</td>\n",
       "      <td>5.518200</td>\n",
       "      <td>0.032555</td>\n",
       "      <td>5.550755</td>\n",
       "      <td>1.896330</td>\n",
       "      <td>2.519430</td>\n",
       "      <td>3.220873</td>\n",
       "      <td>1.324544</td>\n",
       "      <td>0.132638</td>\n",
       "      <td>-0.042980</td>\n",
       "    </tr>\n",
       "    <tr>\n",
       "      <th>chlorides</th>\n",
       "      <td>0.081195</td>\n",
       "      <td>0.082167</td>\n",
       "      <td>0.020111</td>\n",
       "      <td>0.000404</td>\n",
       "      <td>0.125635</td>\n",
       "      <td>0.015122</td>\n",
       "      <td>0.140758</td>\n",
       "      <td>0.066574</td>\n",
       "      <td>0.082167</td>\n",
       "      <td>0.095312</td>\n",
       "      <td>0.028738</td>\n",
       "      <td>-0.051319</td>\n",
       "      <td>-0.246508</td>\n",
       "    </tr>\n",
       "    <tr>\n",
       "      <th>free sulfur dioxide</th>\n",
       "      <td>14.907679</td>\n",
       "      <td>14.860346</td>\n",
       "      <td>4.888100</td>\n",
       "      <td>23.893519</td>\n",
       "      <td>27.267847</td>\n",
       "      <td>0.194679</td>\n",
       "      <td>27.462525</td>\n",
       "      <td>11.426717</td>\n",
       "      <td>14.860346</td>\n",
       "      <td>18.313098</td>\n",
       "      <td>6.886381</td>\n",
       "      <td>0.007130</td>\n",
       "      <td>-0.364964</td>\n",
       "    </tr>\n",
       "    <tr>\n",
       "      <th>total sulfur dioxide</th>\n",
       "      <td>40.290150</td>\n",
       "      <td>40.190000</td>\n",
       "      <td>9.965767</td>\n",
       "      <td>99.316519</td>\n",
       "      <td>66.810000</td>\n",
       "      <td>3.150000</td>\n",
       "      <td>69.960000</td>\n",
       "      <td>33.785000</td>\n",
       "      <td>40.190000</td>\n",
       "      <td>47.022500</td>\n",
       "      <td>13.237500</td>\n",
       "      <td>-0.024060</td>\n",
       "      <td>0.063950</td>\n",
       "    </tr>\n",
       "    <tr>\n",
       "      <th>density</th>\n",
       "      <td>0.995925</td>\n",
       "      <td>0.996000</td>\n",
       "      <td>0.002020</td>\n",
       "      <td>0.000004</td>\n",
       "      <td>0.013800</td>\n",
       "      <td>0.988800</td>\n",
       "      <td>1.002600</td>\n",
       "      <td>0.994600</td>\n",
       "      <td>0.996000</td>\n",
       "      <td>0.997200</td>\n",
       "      <td>0.002600</td>\n",
       "      <td>-0.076883</td>\n",
       "      <td>0.016366</td>\n",
       "    </tr>\n",
       "    <tr>\n",
       "      <th>pH</th>\n",
       "      <td>3.303610</td>\n",
       "      <td>3.300000</td>\n",
       "      <td>0.104875</td>\n",
       "      <td>0.010999</td>\n",
       "      <td>0.740000</td>\n",
       "      <td>2.970000</td>\n",
       "      <td>3.710000</td>\n",
       "      <td>3.230000</td>\n",
       "      <td>3.300000</td>\n",
       "      <td>3.370000</td>\n",
       "      <td>0.140000</td>\n",
       "      <td>0.147673</td>\n",
       "      <td>0.080910</td>\n",
       "    </tr>\n",
       "    <tr>\n",
       "      <th>sulphates</th>\n",
       "      <td>0.598390</td>\n",
       "      <td>0.595000</td>\n",
       "      <td>0.100819</td>\n",
       "      <td>0.010164</td>\n",
       "      <td>0.670000</td>\n",
       "      <td>0.290000</td>\n",
       "      <td>0.960000</td>\n",
       "      <td>0.530000</td>\n",
       "      <td>0.595000</td>\n",
       "      <td>0.670000</td>\n",
       "      <td>0.140000</td>\n",
       "      <td>0.149199</td>\n",
       "      <td>0.064819</td>\n",
       "    </tr>\n",
       "    <tr>\n",
       "      <th>alcohol</th>\n",
       "      <td>10.592280</td>\n",
       "      <td>10.610000</td>\n",
       "      <td>1.510706</td>\n",
       "      <td>2.282233</td>\n",
       "      <td>8.990000</td>\n",
       "      <td>6.030000</td>\n",
       "      <td>15.020000</td>\n",
       "      <td>9.560000</td>\n",
       "      <td>10.610000</td>\n",
       "      <td>11.622500</td>\n",
       "      <td>2.062500</td>\n",
       "      <td>-0.018991</td>\n",
       "      <td>-0.131732</td>\n",
       "    </tr>\n",
       "  </tbody>\n",
       "</table>\n",
       "</div>"
      ],
      "text/plain": [
       "                           Mean      Media  Standar Deviasi   Variansi  \\\n",
       "fixed acidity          7.152530   7.150000         1.201598   1.443837   \n",
       "volatile acidity       0.520838   0.524850         0.095848   0.009187   \n",
       "citric acid            0.270517   0.272200         0.049098   0.002411   \n",
       "residual sugar         2.567104   2.519430         0.987915   0.975977   \n",
       "chlorides              0.081195   0.082167         0.020111   0.000404   \n",
       "free sulfur dioxide   14.907679  14.860346         4.888100  23.893519   \n",
       "total sulfur dioxide  40.290150  40.190000         9.965767  99.316519   \n",
       "density                0.995925   0.996000         0.002020   0.000004   \n",
       "pH                     3.303610   3.300000         0.104875   0.010999   \n",
       "sulphates              0.598390   0.595000         0.100819   0.010164   \n",
       "alcohol               10.592280  10.610000         1.510706   2.282233   \n",
       "\n",
       "                          Range       Min        Max         Q1         Q2  \\\n",
       "fixed acidity          8.170000  3.320000  11.490000   6.377500   7.150000   \n",
       "volatile acidity       0.665200  0.139900   0.805100   0.456100   0.524850   \n",
       "citric acid            0.292900  0.116700   0.409600   0.237800   0.272200   \n",
       "residual sugar         5.518200  0.032555   5.550755   1.896330   2.519430   \n",
       "chlorides              0.125635  0.015122   0.140758   0.066574   0.082167   \n",
       "free sulfur dioxide   27.267847  0.194679  27.462525  11.426717  14.860346   \n",
       "total sulfur dioxide  66.810000  3.150000  69.960000  33.785000  40.190000   \n",
       "density                0.013800  0.988800   1.002600   0.994600   0.996000   \n",
       "pH                     0.740000  2.970000   3.710000   3.230000   3.300000   \n",
       "sulphates              0.670000  0.290000   0.960000   0.530000   0.595000   \n",
       "alcohol                8.990000  6.030000  15.020000   9.560000  10.610000   \n",
       "\n",
       "                             Q3        IQR  Skewness  Kurtosis  \n",
       "fixed acidity          8.000000   1.622500 -0.028879 -0.019292  \n",
       "volatile acidity       0.585375   0.129275 -0.197699  0.161853  \n",
       "citric acid            0.302325   0.064525 -0.045576 -0.104679  \n",
       "residual sugar         3.220873   1.324544  0.132638 -0.042980  \n",
       "chlorides              0.095312   0.028738 -0.051319 -0.246508  \n",
       "free sulfur dioxide   18.313098   6.886381  0.007130 -0.364964  \n",
       "total sulfur dioxide  47.022500  13.237500 -0.024060  0.063950  \n",
       "density                0.997200   0.002600 -0.076883  0.016366  \n",
       "pH                     3.370000   0.140000  0.147673  0.080910  \n",
       "sulphates              0.670000   0.140000  0.149199  0.064819  \n",
       "alcohol               11.622500   2.062500 -0.018991 -0.131732  "
      ]
     },
     "execution_count": 91,
     "metadata": {},
     "output_type": "execute_result"
    }
   ],
   "source": [
    "target = df.drop([\"quality\"], axis=1)\n",
    "\n",
    "deskStat = pd.DataFrame()\n",
    "deskStat[\"Mean\"] = target.mean()\n",
    "deskStat[\"Media\"] = target.median()\n",
    "deskStat[\"Standar Deviasi\"] = target.std()\n",
    "deskStat[\"Variansi\"] = target.var()\n",
    "deskStat[\"Range\"] = target.max()-target.min()\n",
    "deskStat[\"Min\"] = target.min()\n",
    "deskStat[\"Max\"] = target.max()\n",
    "deskStat[\"Q1\"] = target.quantile(0.25)\n",
    "deskStat[\"Q2\"] = target.quantile(0.50)\n",
    "deskStat[\"Q3\"] = target.quantile(0.75)\n",
    "deskStat[\"IQR\"] = target.quantile(0.75) - target.quantile(0.25)\n",
    "deskStat[\"Skewness\"] = target.skew()\n",
    "deskStat[\"Kurtosis\"] = target.kurtosis()\n",
    "\n",
    "deskStat"
   ]
  },
  {
   "attachments": {},
   "cell_type": "markdown",
   "metadata": {},
   "source": [
    "## Modus"
   ]
  },
  {
   "cell_type": "code",
   "execution_count": 92,
   "metadata": {},
   "outputs": [
    {
     "data": {
      "text/html": [
       "<div>\n",
       "<style scoped>\n",
       "    .dataframe tbody tr th:only-of-type {\n",
       "        vertical-align: middle;\n",
       "    }\n",
       "\n",
       "    .dataframe tbody tr th {\n",
       "        vertical-align: top;\n",
       "    }\n",
       "\n",
       "    .dataframe thead th {\n",
       "        text-align: right;\n",
       "    }\n",
       "</style>\n",
       "<table border=\"1\" class=\"dataframe\">\n",
       "  <thead>\n",
       "    <tr style=\"text-align: right;\">\n",
       "      <th></th>\n",
       "      <th>fixed acidity</th>\n",
       "      <th>volatile acidity</th>\n",
       "      <th>citric acid</th>\n",
       "      <th>residual sugar</th>\n",
       "      <th>chlorides</th>\n",
       "      <th>free sulfur dioxide</th>\n",
       "      <th>total sulfur dioxide</th>\n",
       "      <th>density</th>\n",
       "      <th>pH</th>\n",
       "      <th>sulphates</th>\n",
       "      <th>alcohol</th>\n",
       "    </tr>\n",
       "  </thead>\n",
       "  <tbody>\n",
       "    <tr>\n",
       "      <th>0</th>\n",
       "      <td>6.54</td>\n",
       "      <td>0.5546</td>\n",
       "      <td>0.3019</td>\n",
       "      <td>0.032555</td>\n",
       "      <td>0.015122</td>\n",
       "      <td>0.194679</td>\n",
       "      <td>35.20</td>\n",
       "      <td>0.9959</td>\n",
       "      <td>3.34</td>\n",
       "      <td>0.59</td>\n",
       "      <td>9.86</td>\n",
       "    </tr>\n",
       "    <tr>\n",
       "      <th>1</th>\n",
       "      <td>NaN</td>\n",
       "      <td>NaN</td>\n",
       "      <td>NaN</td>\n",
       "      <td>0.033333</td>\n",
       "      <td>0.020794</td>\n",
       "      <td>0.621628</td>\n",
       "      <td>37.25</td>\n",
       "      <td>0.9961</td>\n",
       "      <td>NaN</td>\n",
       "      <td>NaN</td>\n",
       "      <td>10.31</td>\n",
       "    </tr>\n",
       "    <tr>\n",
       "      <th>2</th>\n",
       "      <td>NaN</td>\n",
       "      <td>NaN</td>\n",
       "      <td>NaN</td>\n",
       "      <td>0.051774</td>\n",
       "      <td>0.024259</td>\n",
       "      <td>0.860177</td>\n",
       "      <td>39.64</td>\n",
       "      <td>0.9965</td>\n",
       "      <td>NaN</td>\n",
       "      <td>NaN</td>\n",
       "      <td>NaN</td>\n",
       "    </tr>\n",
       "    <tr>\n",
       "      <th>3</th>\n",
       "      <td>NaN</td>\n",
       "      <td>NaN</td>\n",
       "      <td>NaN</td>\n",
       "      <td>0.077156</td>\n",
       "      <td>0.027209</td>\n",
       "      <td>3.032139</td>\n",
       "      <td>40.61</td>\n",
       "      <td>0.9970</td>\n",
       "      <td>NaN</td>\n",
       "      <td>NaN</td>\n",
       "      <td>NaN</td>\n",
       "    </tr>\n",
       "    <tr>\n",
       "      <th>4</th>\n",
       "      <td>NaN</td>\n",
       "      <td>NaN</td>\n",
       "      <td>NaN</td>\n",
       "      <td>0.084744</td>\n",
       "      <td>0.032111</td>\n",
       "      <td>3.129885</td>\n",
       "      <td>41.05</td>\n",
       "      <td>NaN</td>\n",
       "      <td>NaN</td>\n",
       "      <td>NaN</td>\n",
       "      <td>NaN</td>\n",
       "    </tr>\n",
       "    <tr>\n",
       "      <th>...</th>\n",
       "      <td>...</td>\n",
       "      <td>...</td>\n",
       "      <td>...</td>\n",
       "      <td>...</td>\n",
       "      <td>...</td>\n",
       "      <td>...</td>\n",
       "      <td>...</td>\n",
       "      <td>...</td>\n",
       "      <td>...</td>\n",
       "      <td>...</td>\n",
       "      <td>...</td>\n",
       "    </tr>\n",
       "    <tr>\n",
       "      <th>995</th>\n",
       "      <td>NaN</td>\n",
       "      <td>NaN</td>\n",
       "      <td>NaN</td>\n",
       "      <td>5.210260</td>\n",
       "      <td>0.131425</td>\n",
       "      <td>26.630490</td>\n",
       "      <td>NaN</td>\n",
       "      <td>NaN</td>\n",
       "      <td>NaN</td>\n",
       "      <td>NaN</td>\n",
       "      <td>NaN</td>\n",
       "    </tr>\n",
       "    <tr>\n",
       "      <th>996</th>\n",
       "      <td>NaN</td>\n",
       "      <td>NaN</td>\n",
       "      <td>NaN</td>\n",
       "      <td>5.217429</td>\n",
       "      <td>0.133656</td>\n",
       "      <td>26.665773</td>\n",
       "      <td>NaN</td>\n",
       "      <td>NaN</td>\n",
       "      <td>NaN</td>\n",
       "      <td>NaN</td>\n",
       "      <td>NaN</td>\n",
       "    </tr>\n",
       "    <tr>\n",
       "      <th>997</th>\n",
       "      <td>NaN</td>\n",
       "      <td>NaN</td>\n",
       "      <td>NaN</td>\n",
       "      <td>5.252864</td>\n",
       "      <td>0.135368</td>\n",
       "      <td>26.822626</td>\n",
       "      <td>NaN</td>\n",
       "      <td>NaN</td>\n",
       "      <td>NaN</td>\n",
       "      <td>NaN</td>\n",
       "      <td>NaN</td>\n",
       "    </tr>\n",
       "    <tr>\n",
       "      <th>998</th>\n",
       "      <td>NaN</td>\n",
       "      <td>NaN</td>\n",
       "      <td>NaN</td>\n",
       "      <td>5.299524</td>\n",
       "      <td>0.135790</td>\n",
       "      <td>27.006307</td>\n",
       "      <td>NaN</td>\n",
       "      <td>NaN</td>\n",
       "      <td>NaN</td>\n",
       "      <td>NaN</td>\n",
       "      <td>NaN</td>\n",
       "    </tr>\n",
       "    <tr>\n",
       "      <th>999</th>\n",
       "      <td>NaN</td>\n",
       "      <td>NaN</td>\n",
       "      <td>NaN</td>\n",
       "      <td>5.550755</td>\n",
       "      <td>0.140758</td>\n",
       "      <td>27.462525</td>\n",
       "      <td>NaN</td>\n",
       "      <td>NaN</td>\n",
       "      <td>NaN</td>\n",
       "      <td>NaN</td>\n",
       "      <td>NaN</td>\n",
       "    </tr>\n",
       "  </tbody>\n",
       "</table>\n",
       "<p>1000 rows × 11 columns</p>\n",
       "</div>"
      ],
      "text/plain": [
       "     fixed acidity  volatile acidity  citric acid  residual sugar  chlorides  \\\n",
       "0             6.54            0.5546       0.3019        0.032555   0.015122   \n",
       "1              NaN               NaN          NaN        0.033333   0.020794   \n",
       "2              NaN               NaN          NaN        0.051774   0.024259   \n",
       "3              NaN               NaN          NaN        0.077156   0.027209   \n",
       "4              NaN               NaN          NaN        0.084744   0.032111   \n",
       "..             ...               ...          ...             ...        ...   \n",
       "995            NaN               NaN          NaN        5.210260   0.131425   \n",
       "996            NaN               NaN          NaN        5.217429   0.133656   \n",
       "997            NaN               NaN          NaN        5.252864   0.135368   \n",
       "998            NaN               NaN          NaN        5.299524   0.135790   \n",
       "999            NaN               NaN          NaN        5.550755   0.140758   \n",
       "\n",
       "     free sulfur dioxide  total sulfur dioxide  density    pH  sulphates  \\\n",
       "0               0.194679                 35.20   0.9959  3.34       0.59   \n",
       "1               0.621628                 37.25   0.9961   NaN        NaN   \n",
       "2               0.860177                 39.64   0.9965   NaN        NaN   \n",
       "3               3.032139                 40.61   0.9970   NaN        NaN   \n",
       "4               3.129885                 41.05      NaN   NaN        NaN   \n",
       "..                   ...                   ...      ...   ...        ...   \n",
       "995            26.630490                   NaN      NaN   NaN        NaN   \n",
       "996            26.665773                   NaN      NaN   NaN        NaN   \n",
       "997            26.822626                   NaN      NaN   NaN        NaN   \n",
       "998            27.006307                   NaN      NaN   NaN        NaN   \n",
       "999            27.462525                   NaN      NaN   NaN        NaN   \n",
       "\n",
       "     alcohol  \n",
       "0       9.86  \n",
       "1      10.31  \n",
       "2        NaN  \n",
       "3        NaN  \n",
       "4        NaN  \n",
       "..       ...  \n",
       "995      NaN  \n",
       "996      NaN  \n",
       "997      NaN  \n",
       "998      NaN  \n",
       "999      NaN  \n",
       "\n",
       "[1000 rows x 11 columns]"
      ]
     },
     "execution_count": 92,
     "metadata": {},
     "output_type": "execute_result"
    }
   ],
   "source": [
    "target.mode()"
   ]
  },
  {
   "attachments": {},
   "cell_type": "markdown",
   "metadata": {},
   "source": [
    "# Visualisasi plot distribusi"
   ]
  },
  {
   "cell_type": "code",
   "execution_count": 93,
   "metadata": {},
   "outputs": [],
   "source": [
    "def histAndBox(col):\n",
    "    plt.subplot(1,2,1)\n",
    "    df[str(col)].plot.hist(edgecolor='black')\n",
    "    plt.title(col)\n",
    "\n",
    "    plt.subplot(1, 2, 2)\n",
    "    df.boxplot(column=str(col))\n",
    "    plt.title(col)\n",
    "    plt.show()"
   ]
  },
  {
   "cell_type": "code",
   "execution_count": 94,
   "metadata": {},
   "outputs": [
    {
     "data": {
      "image/png": "[encoded data removed]",
      "text/plain": [
       "<Figure size 432x288 with 2 Axes>"
      ]
     },
     "metadata": {
      "needs_background": "light"
     },
     "output_type": "display_data"
    }
   ],
   "source": [
    "histAndBox(\"fixed acidity\")"
   ]
  },
  {
   "cell_type": "code",
   "execution_count": 95,
   "metadata": {},
   "outputs": [
    {
     "data": {
      "image/png": "[encoded data removed]",
      "text/plain": [
       "<Figure size 432x288 with 2 Axes>"
      ]
     },
     "metadata": {
      "needs_background": "light"
     },
     "output_type": "display_data"
    }
   ],
   "source": [
    "histAndBox(\"volatile acidity\")"
   ]
  },
  {
   "cell_type": "code",
   "execution_count": 96,
   "metadata": {},
   "outputs": [
    {
     "data": {
      "image/png": "[encoded data removed]",
      "text/plain": [
       "<Figure size 432x288 with 2 Axes>"
      ]
     },
     "metadata": {
      "needs_background": "light"
     },
     "output_type": "display_data"
    }
   ],
   "source": [
    "histAndBox(\"citric acid\")"
   ]
  },
  {
   "cell_type": "code",
   "execution_count": 97,
   "metadata": {},
   "outputs": [
    {
     "data": {
      "image/png": "[encoded data removed]",
      "text/plain": [
       "<Figure size 432x288 with 2 Axes>"
      ]
     },
     "metadata": {
      "needs_background": "light"
     },
     "output_type": "display_data"
    }
   ],
   "source": [
    "histAndBox(\"residual sugar\")"
   ]
  },
  {
   "cell_type": "code",
   "execution_count": 98,
   "metadata": {},
   "outputs": [
    {
     "data": {
      "image/png": "[encoded data removed]",
      "text/plain": [
       "<Figure size 432x288 with 2 Axes>"
      ]
     },
     "metadata": {
      "needs_background": "light"
     },
     "output_type": "display_data"
    }
   ],
   "source": [
    "histAndBox(\"chlorides\")"
   ]
  },
  {
   "cell_type": "code",
   "execution_count": 99,
   "metadata": {},
   "outputs": [
    {
     "data": {
      "image/png": "[encoded data removed]",
      "text/plain": [
       "<Figure size 432x288 with 2 Axes>"
      ]
     },
     "metadata": {
      "needs_background": "light"
     },
     "output_type": "display_data"
    }
   ],
   "source": [
    "histAndBox(\"free sulfur dioxide\")"
   ]
  },
  {
   "cell_type": "code",
   "execution_count": 100,
   "metadata": {},
   "outputs": [
    {
     "data": {
      "image/png": "[encoded data removed]",
      "text/plain": [
       "<Figure size 432x288 with 2 Axes>"
      ]
     },
     "metadata": {
      "needs_background": "light"
     },
     "output_type": "display_data"
    }
   ],
   "source": [
    "histAndBox(\"total sulfur dioxide\")"
   ]
  },
  {
   "cell_type": "code",
   "execution_count": 101,
   "metadata": {},
   "outputs": [
    {
     "data": {
      "image/png": "[encoded data removed]",
      "text/plain": [
       "<Figure size 432x288 with 2 Axes>"
      ]
     },
     "metadata": {
      "needs_background": "light"
     },
     "output_type": "display_data"
    }
   ],
   "source": [
    "histAndBox(\"density\")"
   ]
  },
  {
   "cell_type": "code",
   "execution_count": 102,
   "metadata": {},
   "outputs": [
    {
     "data": {
      "image/png": "[encoded data removed]",
      "text/plain": [
       "<Figure size 432x288 with 2 Axes>"
      ]
     },
     "metadata": {
      "needs_background": "light"
     },
     "output_type": "display_data"
    }
   ],
   "source": [
    "histAndBox(\"pH\")"
   ]
  },
  {
   "cell_type": "code",
   "execution_count": 103,
   "metadata": {},
   "outputs": [
    {
     "data": {
      "image/png": "[encoded data removed]",
      "text/plain": [
       "<Figure size 432x288 with 2 Axes>"
      ]
     },
     "metadata": {
      "needs_background": "light"
     },
     "output_type": "display_data"
    }
   ],
   "source": [
    "histAndBox(\"sulphates\")"
   ]
  },
  {
   "cell_type": "code",
   "execution_count": 104,
   "metadata": {},
   "outputs": [
    {
     "data": {
      "image/png": "[encoded data removed]",
      "text/plain": [
       "<Figure size 432x288 with 2 Axes>"
      ]
     },
     "metadata": {
      "needs_background": "light"
     },
     "output_type": "display_data"
    }
   ],
   "source": [
    "histAndBox(\"alcohol\")"
   ]
  },
  {
   "attachments": {},
   "cell_type": "markdown",
   "metadata": {},
   "source": [
    "# Menentukan setiap kolom numerik berdistribusi normal atau tidak. Gunakan normality test yang dikaitkan dengan histogram plot."
   ]
  },
  {
   "cell_type": "code",
   "execution_count": 105,
   "metadata": {},
   "outputs": [
    {
     "data": {
      "text/markdown": [
       "# fixed acidity"
      ],
      "text/plain": [
       "<IPython.core.display.Markdown object>"
      ]
     },
     "metadata": {},
     "output_type": "display_data"
    },
    {
     "name": "stdout",
     "output_type": "stream",
     "text": [
      "Normality test statistic: 0.14329615661430725\n",
      "p-value: 0.9308584274486692\n",
      "fixed acidity berdistribusi normal.\n"
     ]
    },
    {
     "data": {
      "image/png": "[encoded data removed]",
      "text/plain": [
       "<Figure size 432x288 with 1 Axes>"
      ]
     },
     "metadata": {
      "needs_background": "light"
     },
     "output_type": "display_data"
    },
    {
     "name": "stdout",
     "output_type": "stream",
     "text": [
      "\n"
     ]
    },
    {
     "data": {
      "text/markdown": [
       "# volatile acidity"
      ],
      "text/plain": [
       "<IPython.core.display.Markdown object>"
      ]
     },
     "metadata": {},
     "output_type": "display_data"
    },
    {
     "name": "stdout",
     "output_type": "stream",
     "text": [
      "Normality test statistic: 7.581251985533493\n",
      "p-value: 0.022581461594113835\n",
      "volatile acidity tidak berdistribusi normal.\n"
     ]
    },
    {
     "data": {
      "image/png": "[encoded data removed]",
      "text/plain": [
       "<Figure size 432x288 with 1 Axes>"
      ]
     },
     "metadata": {
      "needs_background": "light"
     },
     "output_type": "display_data"
    },
    {
     "name": "stdout",
     "output_type": "stream",
     "text": [
      "\n"
     ]
    },
    {
     "data": {
      "text/markdown": [
       "# citric acid"
      ],
      "text/plain": [
       "<IPython.core.display.Markdown object>"
      ]
     },
     "metadata": {},
     "output_type": "display_data"
    },
    {
     "name": "stdout",
     "output_type": "stream",
     "text": [
      "Normality test statistic: 0.7663607229418252\n",
      "p-value: 0.6816899375976969\n",
      "citric acid berdistribusi normal.\n"
     ]
    },
    {
     "data": {
      "image/png": "[encoded data removed]",
      "text/plain": [
       "<Figure size 432x288 with 1 Axes>"
      ]
     },
     "metadata": {
      "needs_background": "light"
     },
     "output_type": "display_data"
    },
    {
     "name": "stdout",
     "output_type": "stream",
     "text": [
      "\n"
     ]
    },
    {
     "data": {
      "text/markdown": [
       "# residual sugar"
      ],
      "text/plain": [
       "<IPython.core.display.Markdown object>"
      ]
     },
     "metadata": {},
     "output_type": "display_data"
    },
    {
     "name": "stdout",
     "output_type": "stream",
     "text": [
      "Normality test statistic: 2.9862716504538622\n",
      "p-value: 0.22466703321310558\n",
      "residual sugar berdistribusi normal.\n"
     ]
    },
    {
     "data": {
      "image/png": "[encoded data removed]",
      "text/plain": [
       "<Figure size 432x288 with 1 Axes>"
      ]
     },
     "metadata": {
      "needs_background": "light"
     },
     "output_type": "display_data"
    },
    {
     "name": "stdout",
     "output_type": "stream",
     "text": [
      "\n"
     ]
    },
    {
     "data": {
      "text/markdown": [
       "# chlorides"
      ],
      "text/plain": [
       "<IPython.core.display.Markdown object>"
      ]
     },
     "metadata": {},
     "output_type": "display_data"
    },
    {
     "name": "stdout",
     "output_type": "stream",
     "text": [
      "Normality test statistic: 3.538242355484952\n",
      "p-value: 0.17048274704296862\n",
      "chlorides berdistribusi normal.\n"
     ]
    },
    {
     "data": {
      "image/png": "[encoded data removed]",
      "text/plain": [
       "<Figure size 432x288 with 1 Axes>"
      ]
     },
     "metadata": {
      "needs_background": "light"
     },
     "output_type": "display_data"
    },
    {
     "name": "stdout",
     "output_type": "stream",
     "text": [
      "\n"
     ]
    },
    {
     "data": {
      "text/markdown": [
       "# free sulfur dioxide"
      ],
      "text/plain": [
       "<IPython.core.display.Markdown object>"
      ]
     },
     "metadata": {},
     "output_type": "display_data"
    },
    {
     "name": "stdout",
     "output_type": "stream",
     "text": [
      "Normality test statistic: 8.099074980855514\n",
      "p-value: 0.01743043451827735\n",
      "free sulfur dioxide tidak berdistribusi normal.\n"
     ]
    },
    {
     "data": {
      "image/png": "[encoded data removed]",
      "text/plain": [
       "<Figure size 432x288 with 1 Axes>"
      ]
     },
     "metadata": {
      "needs_background": "light"
     },
     "output_type": "display_data"
    },
    {
     "name": "stdout",
     "output_type": "stream",
     "text": [
      "\n"
     ]
    },
    {
     "data": {
      "text/markdown": [
       "# total sulfur dioxide"
      ],
      "text/plain": [
       "<IPython.core.display.Markdown object>"
      ]
     },
     "metadata": {},
     "output_type": "display_data"
    },
    {
     "name": "stdout",
     "output_type": "stream",
     "text": [
      "Normality test statistic: 0.3276640291639825\n",
      "p-value: 0.8488846101395726\n",
      "total sulfur dioxide berdistribusi normal.\n"
     ]
    },
    {
     "data": {
      "image/png": "[encoded data removed]",
      "text/plain": [
       "<Figure size 432x288 with 1 Axes>"
      ]
     },
     "metadata": {
      "needs_background": "light"
     },
     "output_type": "display_data"
    },
    {
     "name": "stdout",
     "output_type": "stream",
     "text": [
      "\n"
     ]
    },
    {
     "data": {
      "text/markdown": [
       "# density"
      ],
      "text/plain": [
       "<IPython.core.display.Markdown object>"
      ]
     },
     "metadata": {},
     "output_type": "display_data"
    },
    {
     "name": "stdout",
     "output_type": "stream",
     "text": [
      "Normality test statistic: 1.026581544320803\n",
      "p-value: 0.5985227325531981\n",
      "density berdistribusi normal.\n"
     ]
    },
    {
     "data": {
      "image/png": "[encoded data removed]",
      "text/plain": [
       "<Figure size 432x288 with 1 Axes>"
      ]
     },
     "metadata": {
      "needs_background": "light"
     },
     "output_type": "display_data"
    },
    {
     "name": "stdout",
     "output_type": "stream",
     "text": [
      "\n"
     ]
    },
    {
     "data": {
      "text/markdown": [
       "# pH"
      ],
      "text/plain": [
       "<IPython.core.display.Markdown object>"
      ]
     },
     "metadata": {},
     "output_type": "display_data"
    },
    {
     "name": "stdout",
     "output_type": "stream",
     "text": [
      "Normality test statistic: 3.9786546459928545\n",
      "p-value: 0.13678740824860436\n",
      "pH berdistribusi normal.\n"
     ]
    },
    {
     "data": {
      "image/png": "[encoded data removed]",
      "text/plain": [
       "<Figure size 432x288 with 1 Axes>"
      ]
     },
     "metadata": {
      "needs_background": "light"
     },
     "output_type": "display_data"
    },
    {
     "name": "stdout",
     "output_type": "stream",
     "text": [
      "\n"
     ]
    },
    {
     "data": {
      "text/markdown": [
       "# sulphates"
      ],
      "text/plain": [
       "<IPython.core.display.Markdown object>"
      ]
     },
     "metadata": {},
     "output_type": "display_data"
    },
    {
     "name": "stdout",
     "output_type": "stream",
     "text": [
      "Normality test statistic: 3.948820277859041\n",
      "p-value: 0.13884318628391681\n",
      "sulphates berdistribusi normal.\n"
     ]
    },
    {
     "data": {
      "image/png": "[encoded data removed]",
      "text/plain": [
       "<Figure size 432x288 with 1 Axes>"
      ]
     },
     "metadata": {
      "needs_background": "light"
     },
     "output_type": "display_data"
    },
    {
     "name": "stdout",
     "output_type": "stream",
     "text": [
      "\n"
     ]
    },
    {
     "data": {
      "text/markdown": [
       "# alcohol"
      ],
      "text/plain": [
       "<IPython.core.display.Markdown object>"
      ]
     },
     "metadata": {},
     "output_type": "display_data"
    },
    {
     "name": "stdout",
     "output_type": "stream",
     "text": [
      "Normality test statistic: 0.7740076714171271\n",
      "p-value: 0.6790884901361043\n",
      "alcohol berdistribusi normal.\n"
     ]
    },
    {
     "data": {
      "image/png": "[encoded data removed]",
      "text/plain": [
       "<Figure size 432x288 with 1 Axes>"
      ]
     },
     "metadata": {
      "needs_background": "light"
     },
     "output_type": "display_data"
    },
    {
     "name": "stdout",
     "output_type": "stream",
     "text": [
      "\n"
     ]
    }
   ],
   "source": [
    "def normality_test(col):\n",
    "    statistic, p_value = normaltest(df[col])\n",
    "    data = df[col]\n",
    "\n",
    "    display(Markdown((\"# %s\" %(col))))\n",
    "    print('Normality test statistic:', statistic)\n",
    "    print('p-value:', p_value)\n",
    "\n",
    "    if p_value < 0.05:\n",
    "        print(col, \"tidak berdistribusi normal.\")\n",
    "    else:\n",
    "        print(col, \"berdistribusi normal.\")\n",
    "\n",
    "    plt.hist(data, bins=30, density=True, alpha=0.5, color='blue')\n",
    "\n",
    "    mu, std = norm.fit(data) # mendapatkan mean dan standar deviasi\n",
    "    x = np.linspace(min(data), max(data), 100)\n",
    "    p = norm.pdf(x, mu, std) # Probability Densitiy Function\n",
    "    plt.plot(x, p, 'k', linewidth=2)\n",
    "\n",
    "    plt.xlabel('Value')\n",
    "    plt.ylabel('Frequency')\n",
    "    plt.title(col)\n",
    "\n",
    "    plt.show()\n",
    "    print()\n",
    "    \n",
    "for col in target.columns:\n",
    "    normality_test(col)"
   ]
  },
  {
   "attachments": {},
   "cell_type": "markdown",
   "metadata": {},
   "source": [
    "# Test Hipotesis 1 Sampel"
   ]
  },
  {
   "attachments": {},
   "cell_type": "markdown",
   "metadata": {},
   "source": [
    "## Nilai rata-rata pH di atas 3.29?"
   ]
  },
  {
   "attachments": {},
   "cell_type": "markdown",
   "metadata": {},
   "source": [
    "#### $H_{{0}}$ : Rata - rata pH = 3.29\n",
    "#### $H_{{1}}$ : Rata - rata pH > 3.29"
   ]
  },
  {
   "cell_type": "code",
   "execution_count": 106,
   "metadata": {},
   "outputs": [
    {
     "data": {
      "text/markdown": [
       "### $Z_{value}$ : 4.103781"
      ],
      "text/plain": [
       "<IPython.core.display.Markdown object>"
      ]
     },
     "metadata": {},
     "output_type": "display_data"
    },
    {
     "data": {
      "text/markdown": [
       "### $P$ : 0.000020"
      ],
      "text/plain": [
       "<IPython.core.display.Markdown object>"
      ]
     },
     "metadata": {},
     "output_type": "display_data"
    },
    {
     "data": {
      "text/markdown": [
       "### **Menolak $H_0$** karena $z$ berada pada **critical region**"
      ],
      "text/plain": [
       "<IPython.core.display.Markdown object>"
      ]
     },
     "metadata": {},
     "output_type": "display_data"
    },
    {
     "data": {
      "text/markdown": [
       "### Jadi, **nilai rata - rata pH lebih dari 3.29**"
      ],
      "text/plain": [
       "<IPython.core.display.Markdown object>"
      ]
     },
     "metadata": {},
     "output_type": "display_data"
    }
   ],
   "source": [
    "z, p = ztest(df[\"pH\"], value = 3.29, alternative=\"larger\")\n",
    "zalpha = st.norm.ppf(1-0.05) #alpha 0.05\n",
    "\n",
    "display(Markdown((f\"### $Z_{{value}}$ : %f\" %(z))))\n",
    "display(Markdown((f\"### $P$ : %f\" %(p))))\n",
    "\n",
    "if(z  > zalpha):\n",
    "    display(Markdown(f\"### **Menolak $H_0$** karena $z$ berada pada **critical region**\"))\n",
    "    display(Markdown(f\"### Tes Signifikan: Tolak $H_0$ dikarenakan $p$ lebih kecil dari tingkat signifikan yang diinginkan ($p < {alpha}$)\"))\n",
    "    display(Markdown(f\"### Jadi, **nilai rata - rata pH lebih dari 3.29**\"))\n",
    "else:\n",
    "    display(Markdown(f\"### **Tidak menolak $H_0$** karena $z$ tidak berada pada **critical region**\"))\n",
    "    display(Markdown(f\"### Tes Signifikan: Tidak menolak $H_0$ dikarenakan $p$ lebih besar atau sama dengan tingkat signifikan yang diinginkan ($p >= {alpha}$)\"))\n",
    "    display(Markdown(f\"### Jadi, **nilai rata - rata pH sama dengan 3.29**\"))"
   ]
  },
  {
   "attachments": {},
   "cell_type": "markdown",
   "metadata": {},
   "source": [
    "## Nilai rata-rata Residual Sugar tidak sama dengan 2.50?"
   ]
  },
  {
   "attachments": {},
   "cell_type": "markdown",
   "metadata": {},
   "source": [
    "#### $H_{{0}}$ : Rata - rata Residual Sugar = 2.50\n",
    "#### $H_{{1}}$ : Rata - rata Residual Sugar ${{\\neq}}$ 2.50"
   ]
  },
  {
   "cell_type": "code",
   "execution_count": 107,
   "metadata": {},
   "outputs": [
    {
     "data": {
      "text/markdown": [
       "### $Z_{value}$ : 2.147962"
      ],
      "text/plain": [
       "<IPython.core.display.Markdown object>"
      ]
     },
     "metadata": {},
     "output_type": "display_data"
    },
    {
     "data": {
      "text/markdown": [
       "### $Z_{\\alpha/2}$ : 2.147962"
      ],
      "text/plain": [
       "<IPython.core.display.Markdown object>"
      ]
     },
     "metadata": {},
     "output_type": "display_data"
    },
    {
     "data": {
      "text/markdown": [
       "### $P$ : 0.031717"
      ],
      "text/plain": [
       "<IPython.core.display.Markdown object>"
      ]
     },
     "metadata": {},
     "output_type": "display_data"
    },
    {
     "data": {
      "text/markdown": [
       "### **Menolak $H_0$** karena $z$ berada pada **critical region**"
      ],
      "text/plain": [
       "<IPython.core.display.Markdown object>"
      ]
     },
     "metadata": {},
     "output_type": "display_data"
    },
    {
     "data": {
      "text/markdown": [
       "### Jadi, **nilai rata - rata Residual Sugar tidak sama dengan 2.50**"
      ],
      "text/plain": [
       "<IPython.core.display.Markdown object>"
      ]
     },
     "metadata": {},
     "output_type": "display_data"
    }
   ],
   "source": [
    "mean = 2.50\n",
    "alpha = 0.05\n",
    "\n",
    "z, p = ztest(df[\"residual sugar\"], value = mean, alternative=\"two-sided\")\n",
    "zalpha = st.norm.ppf(1- (alpha/2))\n",
    "\n",
    "display(Markdown((f\"### $Z_{{value}}$ : %f\" %(z))))\n",
    "display(Markdown((f\"### $Z_{{\\\\alpha/2}}$ : %f\" %(z))))\n",
    "display(Markdown((f\"### $P$ : %f\" %(p))))\n",
    "\n",
    "if(z < -zalpha or z > zalpha):\n",
    "    display(Markdown(f\"### **Menolak $H_0$** karena $z$ berada pada **critical region**\"))\n",
    "    display(Markdown(f\"### Tes Signifikan: Tolak $H_0$ dikarenakan $p$ lebih kecil dari tingkat signifikan yang diinginkan ($p < {alpha}$)\"))\n",
    "    display(Markdown(f\"### Jadi, **nilai rata - rata Residual Sugar tidak sama dengan 2.50**\"))\n",
    "else:\n",
    "    display(Markdown(f\"### **Tidak menolak $H_0$** karena $z$ tidak berada pada **critical region**\"))\n",
    "    display(Markdown(f\"### Tes Signifikan: Tidak menolak $H_0$ dikarenakan $p$ lebih besar atau sama dengan tingkat signifikan yang diinginkan ($p >= {alpha}$)\"))\n",
    "    display(Markdown(f\"### Jadi, **nilai rata - rata Residual Sugar sama dengan 2.50**\"))"
   ]
  },
  {
   "attachments": {},
   "cell_type": "markdown",
   "metadata": {},
   "source": [
    "## Nilai rata-rata 150 baris pertama kolom sulphates bukan 0.65?"
   ]
  },
  {
   "attachments": {},
   "cell_type": "markdown",
   "metadata": {},
   "source": [
    "#### $H_{{0}}$ : Rata - rata 150 baris pertama kolom sulphates = 0.65\n",
    "#### $H_{{1}}$ : Rata - rata 150 baris pertama kolom sulphates ${{\\neq}}$ 0.65"
   ]
  },
  {
   "cell_type": "code",
   "execution_count": 108,
   "metadata": {},
   "outputs": [
    {
     "data": {
      "text/markdown": [
       "### $Z_{value}$ : -4.964843"
      ],
      "text/plain": [
       "<IPython.core.display.Markdown object>"
      ]
     },
     "metadata": {},
     "output_type": "display_data"
    },
    {
     "data": {
      "text/markdown": [
       "### $Z_{\\alpha/2}$ : 1.959964"
      ],
      "text/plain": [
       "<IPython.core.display.Markdown object>"
      ]
     },
     "metadata": {},
     "output_type": "display_data"
    },
    {
     "data": {
      "text/markdown": [
       "### $P$ : 0.000001"
      ],
      "text/plain": [
       "<IPython.core.display.Markdown object>"
      ]
     },
     "metadata": {},
     "output_type": "display_data"
    },
    {
     "data": {
      "text/markdown": [
       "### **Menolak $H_0$** karena $z$ berada pada **critical region**"
      ],
      "text/plain": [
       "<IPython.core.display.Markdown object>"
      ]
     },
     "metadata": {},
     "output_type": "display_data"
    },
    {
     "data": {
      "text/markdown": [
       "### Jadi, **nilai rata - rata Residual Sugar tidak sama dengan 0.65**"
      ],
      "text/plain": [
       "<IPython.core.display.Markdown object>"
      ]
     },
     "metadata": {},
     "output_type": "display_data"
    }
   ],
   "source": [
    "mean = 0.65\n",
    "alpha = 0.05\n",
    "\n",
    "z, p = ztest(df[\"sulphates\"].head(150), value = mean, alternative=\"two-sided\")\n",
    "zalpha = st.norm.ppf(1- (alpha/2))\n",
    "\n",
    "display(Markdown((f\"### $Z_{{value}}$ : %f\" %(z))))\n",
    "display(Markdown((f\"### $Z_{{\\\\alpha/2}}$ : %f\" %(zalpha))))\n",
    "display(Markdown((f\"### $P$ : %f\" %(p))))\n",
    "\n",
    "if(z < -zalpha or z > zalpha):\n",
    "    display(Markdown(f\"### **Menolak $H_0$** karena $z$ berada pada **critical region**\"))\n",
    "    display(Markdown(f\"### Tes Signifikan: Tolak $H_0$ dikarenakan $p$ lebih kecil dari tingkat signifikan yang diinginkan ($p < {alpha}$)\"))\n",
    "    display(Markdown(f\"### Jadi, **nilai rata - rata Residual Sugar tidak sama dengan {mean}**\"))\n",
    "else:\n",
    "    display(Markdown(f\"### **Tidak menolak $H_0$** karena $z$ tidak berada pada **critical region**\"))\n",
    "    display(Markdown(f\"### Tes Signifikan: Tidak menolak $H_0$ dikarenakan $p$ lebih besar atau sama dengan tingkat signifikan yang diinginkan ($p >= {alpha}$)\"))\n",
    "    display(Markdown(f\"### Jadi, **nilai rata - rata Residual Sugar sama dengan {mean}**\"))"
   ]
  },
  {
   "attachments": {},
   "cell_type": "markdown",
   "metadata": {},
   "source": [
    "## Nilai rata-rata total sulfur dioxide di bawah 35?"
   ]
  },
  {
   "attachments": {},
   "cell_type": "markdown",
   "metadata": {},
   "source": [
    "#### $H_{{0}}$ : Rata - rata total sulfur dioxide  = 35\n",
    "#### $H_{{1}}$ : Rata - rata total sulfur dioxide ${{\\lt}}$ 35"
   ]
  },
  {
   "cell_type": "code",
   "execution_count": 109,
   "metadata": {},
   "outputs": [
    {
     "data": {
      "text/markdown": [
       "### $Z_{value}$ : 16.786387"
      ],
      "text/plain": [
       "<IPython.core.display.Markdown object>"
      ]
     },
     "metadata": {},
     "output_type": "display_data"
    },
    {
     "data": {
      "text/markdown": [
       "### $Z_{\\alpha}$ : -1.644854"
      ],
      "text/plain": [
       "<IPython.core.display.Markdown object>"
      ]
     },
     "metadata": {},
     "output_type": "display_data"
    },
    {
     "data": {
      "text/markdown": [
       "### $P$ : 1.000000"
      ],
      "text/plain": [
       "<IPython.core.display.Markdown object>"
      ]
     },
     "metadata": {},
     "output_type": "display_data"
    },
    {
     "data": {
      "text/markdown": [
       "### **Tidak menolak $H_0$** karena $z$ tidak berada pada **critical region**"
      ],
      "text/plain": [
       "<IPython.core.display.Markdown object>"
      ]
     },
     "metadata": {},
     "output_type": "display_data"
    },
    {
     "data": {
      "text/markdown": [
       "### Jadi, **nilai rata - rata Total Sulfur Dioxide sama dengan 35**"
      ],
      "text/plain": [
       "<IPython.core.display.Markdown object>"
      ]
     },
     "metadata": {},
     "output_type": "display_data"
    }
   ],
   "source": [
    "mean = 35\n",
    "alpha = 0.05\n",
    "\n",
    "z, p = ztest(df[\"total sulfur dioxide\"], value = mean, alternative=\"smaller\")\n",
    "zalpha = st.norm.ppf((alpha))\n",
    "\n",
    "display(Markdown((f\"### $Z_{{value}}$ : %f\" %(z))))\n",
    "display(Markdown((f\"### $Z_{{\\\\alpha}}$ : %f\" %(zalpha))))\n",
    "display(Markdown((f\"### $P$ : %f\" %(p))))\n",
    "\n",
    "if(z < zalpha):\n",
    "    display(Markdown(f\"### **Menolak $H_0$** karena $z$ berada pada **critical region**\"))\n",
    "    display(Markdown(f\"### Tes Signifikan: Tolak $H_0$ dikarenakan $p$ lebih kecil dari tingkat signifikan yang diinginkan ($p < {alpha}$)\"))\n",
    "    display(Markdown(f\"### Jadi, **nilai rata - rata Total Sulfur Dioxide tidak sama dengan {mean}**\"))\n",
    "else:\n",
    "    display(Markdown(f\"### **Tidak menolak $H_0$** karena $z$ tidak berada pada **critical region**\"))\n",
    "    display(Markdown(f\"### Tes Signifikan: Tidak menolak $H_0$ dikarenakan $p$ lebih besar atau sama dengan tingkat signifikan yang diinginkan ($p >= {alpha}$)\"))\n",
    "    display(Markdown(f\"### Jadi, **nilai rata - rata Total Sulfur Dioxide sama dengan {mean}**\"))"
   ]
  },
  {
   "attachments": {},
   "cell_type": "markdown",
   "metadata": {},
   "source": [
    "## Proporsi nilai total Sulfat Dioxide yang lebih dari 40, adalah tidak sama dengan 50%"
   ]
  },
  {
   "attachments": {},
   "cell_type": "markdown",
   "metadata": {},
   "source": [
    "#### $H_{{0}}$ : Proporsi nilai total Sulfat Dioxide yang lebih dari 40 = 50%\n",
    "#### $H_{{1}}$ : Proporsi nilai total Sulfat Dioxide yang lebih dari 40 ${{\\neq}}$ 50%"
   ]
  },
  {
   "cell_type": "code",
   "execution_count": 110,
   "metadata": {},
   "outputs": [
    {
     "data": {
      "text/markdown": [
       "### $Z_{value}$ : 0.758947"
      ],
      "text/plain": [
       "<IPython.core.display.Markdown object>"
      ]
     },
     "metadata": {},
     "output_type": "display_data"
    },
    {
     "data": {
      "text/markdown": [
       "### $Z_{\\alpha/2}$ : 1.959964"
      ],
      "text/plain": [
       "<IPython.core.display.Markdown object>"
      ]
     },
     "metadata": {},
     "output_type": "display_data"
    },
    {
     "data": {
      "text/markdown": [
       "### $P$ : 0.447884"
      ],
      "text/plain": [
       "<IPython.core.display.Markdown object>"
      ]
     },
     "metadata": {},
     "output_type": "display_data"
    },
    {
     "data": {
      "text/markdown": [
       "### **Tidak menolak $H_0$** karena $z$ tidak berada pada **critical region**"
      ],
      "text/plain": [
       "<IPython.core.display.Markdown object>"
      ]
     },
     "metadata": {},
     "output_type": "display_data"
    },
    {
     "data": {
      "text/markdown": [
       "### Jadi, **Proporsi nilai total Sulfat Dioxide yang lebih dari 40, adalah sama dengan 0.5**"
      ],
      "text/plain": [
       "<IPython.core.display.Markdown object>"
      ]
     },
     "metadata": {},
     "output_type": "display_data"
    }
   ],
   "source": [
    "p0 = 0.5\n",
    "alpha = 0.05\n",
    "\n",
    "z, p = proportions_ztest(len(df[df[\"total sulfur dioxide\"] > 40]), len(df), value=p0, alternative=\"two-sided\", prop_var=p0)\n",
    "zalpha = st.norm.ppf(1- (alpha/2))\n",
    "\n",
    "display(Markdown((f\"### $Z_{{value}}$ : %f\" %(z))))\n",
    "display(Markdown((f\"### $Z_{{\\\\alpha/2}}$ : %f\" %(zalpha))))\n",
    "display(Markdown((f\"### $P$ : %f\" %(p))))\n",
    "\n",
    "if(z < -zalpha or z > zalpha):\n",
    "    display(Markdown(f\"### **Menolak $H_0$** karena $z$ berada pada **critical region**\"))\n",
    "    display(Markdown(f\"### Tes Signifikan: Tolak $H_0$ dikarenakan $p$ lebih kecil dari tingkat signifikan yang diinginkan ($p < {alpha}$)\"))\n",
    "    display(Markdown(f\"### Jadi, **Proporsi nilai total Sulfat Dioxide yang lebih dari 40, adalah tidak sama dengan {p0}**\"))\n",
    "else:\n",
    "    display(Markdown(f\"### **Tidak menolak $H_0$** karena $z$ tidak berada pada **critical region**\"))\n",
    "    display(Markdown(f\"### Tes Signifikan: Tidak menolak $H_0$ dikarenakan $p$ lebih besar atau sama dengan tingkat signifikan yang diinginkan ($p >= {alpha}$)\"))\n",
    "    display(Markdown(f\"### Jadi, **Proporsi nilai total Sulfat Dioxide yang lebih dari 40, adalah sama dengan {p0}**\"))"
   ]
  },
  {
   "attachments": {},
   "cell_type": "markdown",
   "metadata": {},
   "source": [
    "# Melakukan Test Hipotesis 2 Sampel"
   ]
  },
  {
   "attachments": {},
   "cell_type": "markdown",
   "metadata": {},
   "source": [
    "## Data kolom fixed acidity dibagi 2 sama rata: bagian awal dan bagian akhir kolom. Benarkah rata-rata kedua bagian tersebut sama?"
   ]
  },
  {
   "attachments": {},
   "cell_type": "markdown",
   "metadata": {},
   "source": [
    "#### $H_{{0}}$ : Nilai rata - rata bagian awal dan bagian akhir fixed acidity tidak sama (${{\\mu_1}}$ - ${{\\mu_2}}$ = 0) \n",
    "#### $H_{{1}}$ : Nilai rata - rata bagian awal dan bagian akhir fixed acidity sama (${{\\mu_1}}$ - ${{\\mu_2}}$ ${{\\neq}}$ 0)"
   ]
  },
  {
   "cell_type": "code",
   "execution_count": 137,
   "metadata": {},
   "outputs": [
    {
     "data": {
      "text/markdown": [
       "### $Z_{value}$ : 0.026041"
      ],
      "text/plain": [
       "<IPython.core.display.Markdown object>"
      ]
     },
     "metadata": {},
     "output_type": "display_data"
    },
    {
     "data": {
      "text/markdown": [
       "### $Z_{\\alpha/2}$ : 1.959964"
      ],
      "text/plain": [
       "<IPython.core.display.Markdown object>"
      ]
     },
     "metadata": {},
     "output_type": "display_data"
    },
    {
     "data": {
      "text/markdown": [
       "### $P$ : 0.979225"
      ],
      "text/plain": [
       "<IPython.core.display.Markdown object>"
      ]
     },
     "metadata": {},
     "output_type": "display_data"
    },
    {
     "data": {
      "text/markdown": [
       "### **Tidak menolak $H_0$** karena $z$ tidak berada pada **critical region**"
      ],
      "text/plain": [
       "<IPython.core.display.Markdown object>"
      ]
     },
     "metadata": {},
     "output_type": "display_data"
    },
    {
     "data": {
      "text/markdown": [
       "### Jadi, **Data kolom fixed acidity jika dibagi 2 sama rata: bagian awal dan bagian akhir kolom, rata-rata kedua bagian tersebut tidak sama**"
      ],
      "text/plain": [
       "<IPython.core.display.Markdown object>"
      ]
     },
     "metadata": {},
     "output_type": "display_data"
    }
   ],
   "source": [
    "deltaMiu = 0\n",
    "alpha = 0.05\n",
    "\n",
    "awal = df[\"fixed acidity\"][:len(df) // 2] # Bagian awal\n",
    "akhir = df[\"fixed acidity\"][len(df) // 2:] # Bagian akhir\n",
    "z, p = ztest(awal, akhir, value=deltaMiu, alternative=\"two-sided\")\n",
    "\n",
    "zalpha = st.norm.ppf(1- (alpha/2))\n",
    "\n",
    "display(Markdown((f\"### $Z_{{value}}$ : %f\" %(z))))\n",
    "display(Markdown((f\"### $Z_{{\\\\alpha/2}}$ : %f\" %(zalpha))))\n",
    "display(Markdown((f\"### $P$ : %f\" %(p))))\n",
    "\n",
    "if(z < -zalpha or z > zalpha):\n",
    "    display(Markdown(f\"### **Menolak $H_0$** karena $z$ berada pada **critical region**\"))\n",
    "    display(Markdown(f\"### Tes Signifikan: Tolak $H_0$ dikarenakan $p$ lebih kecil dari tingkat signifikan yang diinginkan ($p < {alpha}$)\"))\n",
    "    display(Markdown(f\"### Jadi, **Data kolom fixed acidity jika dibagi 2 sama rata: bagian awal dan bagian akhir kolom, rata-rata kedua bagian tersebut sama**\"))\n",
    "else:\n",
    "    display(Markdown(f\"### **Tidak menolak $H_0$** karena $z$ tidak berada pada **critical region**\"))\n",
    "    display(Markdown(f\"### Tes Signifikan: Tidak menolak $H_0$ dikarenakan $p$ lebih besar atau sama dengan tingkat signifikan yang diinginkan ($p >= {alpha}$)\"))\n",
    "    display(Markdown(f\"### Jadi, **Data kolom fixed acidity jika dibagi 2 sama rata: bagian awal dan bagian akhir kolom, rata-rata kedua bagian tersebut tidak sama**\"))"
   ]
  },
  {
   "attachments": {},
   "cell_type": "markdown",
   "metadata": {},
   "source": [
    "## Data kolom chlorides dibagi 2 sama rata: bagian awal dan bagian akhir kolom. Benarkah rata-rata bagian awal lebih besar daripada bagian akhir sebesar 0.001?"
   ]
  },
  {
   "attachments": {},
   "cell_type": "markdown",
   "metadata": {},
   "source": [
    "#### $H_{{0}}$ : Nilai rata - rata bagian awal tidak lebih besar daripada bagian akhir sebesar 0.001 (${{\\mu_1}}$ - ${{\\mu_2}}$ = 0.001) \n",
    "#### $H_{{1}}$ : Nilai rata - rata bagian awal lebih besar daripada bagian akhir sebesar 0.001 (${{\\mu_1}}$ - ${{\\mu_2}}$ ${{\\neq}}$ 0.001)"
   ]
  },
  {
   "cell_type": "code",
   "execution_count": 112,
   "metadata": {},
   "outputs": [
    {
     "data": {
      "text/markdown": [
       "### $Z_{value}$ : -0.467317"
      ],
      "text/plain": [
       "<IPython.core.display.Markdown object>"
      ]
     },
     "metadata": {},
     "output_type": "display_data"
    },
    {
     "data": {
      "text/markdown": [
       "### $Z_{\\alpha}$ : 1.959964"
      ],
      "text/plain": [
       "<IPython.core.display.Markdown object>"
      ]
     },
     "metadata": {},
     "output_type": "display_data"
    },
    {
     "data": {
      "text/markdown": [
       "### $P$ : 0.640273"
      ],
      "text/plain": [
       "<IPython.core.display.Markdown object>"
      ]
     },
     "metadata": {},
     "output_type": "display_data"
    },
    {
     "data": {
      "text/markdown": [
       "### **Tidak menolak $H_0$** karena $z$ tidak berada pada **critical region**"
      ],
      "text/plain": [
       "<IPython.core.display.Markdown object>"
      ]
     },
     "metadata": {},
     "output_type": "display_data"
    },
    {
     "data": {
      "text/markdown": [
       "### Jadi, **Data kolom chlorides jika dibagi 2 sama rata: bagian awal dan bagian akhir kolom, rata-rata bagian awal lebih besar daripada bagian akhir sebesar 0.001**"
      ],
      "text/plain": [
       "<IPython.core.display.Markdown object>"
      ]
     },
     "metadata": {},
     "output_type": "display_data"
    }
   ],
   "source": [
    "deltaMiu = 0.001\n",
    "alpha = 0.05\n",
    "\n",
    "\n",
    "awal = df[\"chlorides\"][:len(df) // 2] # Bagian awal\n",
    "akhir = df[\"chlorides\"][len(df) // 2:] # Bagian akhir\n",
    "z, p = ztest(awal, akhir, value=deltaMiu, alternative='two-sided')\n",
    "\n",
    "zalpha = st.norm.ppf(1-(alpha/2))\n",
    "\n",
    "display(Markdown((f\"### $Z_{{value}}$ : %f\" %(z))))\n",
    "display(Markdown((f\"### $Z_{{\\\\alpha}}$ : %f\" %(zalpha))))\n",
    "display(Markdown((f\"### $P$ : %f\" %(p))))\n",
    "\n",
    "if(z < -zalpha) or (z > zalpha):\n",
    "    display(Markdown(f\"### **Menolak $H_0$** karena $z$ berada pada **critical region**\"))\n",
    "    display(Markdown(f\"### Tes Signifikan: Tolak $H_0$ dikarenakan $p$ lebih kecil dari tingkat signifikan yang diinginkan ($p < {alpha}$)\"))\n",
    "    display(Markdown(f\"### Jadi, **Data kolom chlorides jika dibagi 2 sama rata: bagian awal dan bagian akhir kolom, rata-rata bagian awal tidak lebih besar daripada bagian akhir sebesar 0.001**\"))\n",
    "else:\n",
    "    display(Markdown(f\"### **Tidak menolak $H_0$** karena $z$ tidak berada pada **critical region**\"))\n",
    "    display(Markdown(f\"### Tes Signifikan: Tidak menolak $H_0$ dikarenakan $p$ lebih besar atau sama dengan tingkat signifikan yang diinginkan ($p >= {alpha}$)\"))\n",
    "    display(Markdown(f\"### Jadi, **Data kolom chlorides jika dibagi 2 sama rata: bagian awal dan bagian akhir kolom, rata-rata bagian awal lebih besar daripada bagian akhir sebesar 0.001**\"))"
   ]
  },
  {
   "attachments": {},
   "cell_type": "markdown",
   "metadata": {},
   "source": [
    "## Benarkah rata-rata sampel 25 baris pertama kolom Volatile Acidity sama dengan rata-rata 25 baris pertama kolom Sulphates ?"
   ]
  },
  {
   "attachments": {},
   "cell_type": "markdown",
   "metadata": {},
   "source": [
    "#### $H_{{0}}$ : rata-rata sampel 25 baris pertama kolom Volatile Acidity sama dengan rata-rata 25 baris pertama kolom Sulphate (${{\\mu_1}}$ - ${{\\mu_2}}$ = 0) \n",
    "#### $H_{{1}}$ : Rata-rata sampel 25 baris pertama kolom Volatile Acidity sama dengan rata-rata 25 baris pertama kolom Sulphate (${{\\mu_1}}$ - ${{\\mu_2}}$ ${{\\neq}}$ 0)"
   ]
  },
  {
   "cell_type": "code",
   "execution_count": 113,
   "metadata": {},
   "outputs": [
    {
     "data": {
      "text/markdown": [
       "### $Z_{value}$ : -4.813169"
      ],
      "text/plain": [
       "<IPython.core.display.Markdown object>"
      ]
     },
     "metadata": {},
     "output_type": "display_data"
    },
    {
     "data": {
      "text/markdown": [
       "### $Z_{\\alpha/2}$ : 1.959964"
      ],
      "text/plain": [
       "<IPython.core.display.Markdown object>"
      ]
     },
     "metadata": {},
     "output_type": "display_data"
    },
    {
     "data": {
      "text/markdown": [
       "### $P$ : 0.000001"
      ],
      "text/plain": [
       "<IPython.core.display.Markdown object>"
      ]
     },
     "metadata": {},
     "output_type": "display_data"
    },
    {
     "data": {
      "text/markdown": [
       "### **Menolak $H_0$** karena $z$ berada pada **critical region**"
      ],
      "text/plain": [
       "<IPython.core.display.Markdown object>"
      ]
     },
     "metadata": {},
     "output_type": "display_data"
    },
    {
     "data": {
      "text/markdown": [
       "### Jadi, **Rata-rata sampel 25 baris pertama kolom Volatile Acidity tidak sama dengan rata-rata 25 baris pertama kolom Sulphates**"
      ],
      "text/plain": [
       "<IPython.core.display.Markdown object>"
      ]
     },
     "metadata": {},
     "output_type": "display_data"
    }
   ],
   "source": [
    "deltaMiu = 0\n",
    "alpha = 0.05\n",
    "\n",
    "awal = df[\"volatile acidity\"][:25] # Bagian awal\n",
    "akhir = df[\"sulphates\"][25:] # Bagian akhir\n",
    "z, p = ztest(awal, akhir, value=deltaMiu, alternative=\"two-sided\")\n",
    "\n",
    "zalpha = st.norm.ppf(1- (alpha/2))\n",
    "\n",
    "display(Markdown((f\"### $Z_{{value}}$ : %f\" %(z))))\n",
    "display(Markdown((f\"### $Z_{{\\\\alpha/2}}$ : %f\" %(zalpha))))\n",
    "display(Markdown((f\"### $P$ : %f\" %(p))))\n",
    "\n",
    "if(z < -zalpha or z > zalpha):\n",
    "    display(Markdown(f\"### **Menolak $H_0$** karena $z$ berada pada **critical region**\"))\n",
    "    display(Markdown(f\"### Tes Signifikan: Tolak $H_0$ dikarenakan $p$ lebih kecil dari tingkat signifikan yang diinginkan ($p < {alpha}$)\"))\n",
    "    display(Markdown(f\"### Jadi, **Rata-rata sampel 25 baris pertama kolom Volatile Acidity tidak sama dengan rata-rata 25 baris pertama kolom Sulphates**\"))\n",
    "else:\n",
    "    display(Markdown(f\"### **Tidak menolak $H_0$** karena $z$ tidak berada pada **critical region**\"))\n",
    "    display(Markdown(f\"### Tes Signifikan: Tidak menolak $H_0$ dikarenakan $p$ lebih besar atau sama dengan tingkat signifikan yang diinginkan ($p >= {alpha}$)\"))\n",
    "    display(Markdown(f\"### Jadi, **Rata-rata sampel 25 baris pertama kolom Volatile Acidity sama dengan rata-rata 25 baris pertama kolom Sulphates**\"))"
   ]
  },
  {
   "attachments": {},
   "cell_type": "markdown",
   "metadata": {},
   "source": [
    "## Bagian awal kolom residual sugar memiliki variansi yang sama dengan bagian akhirnya?"
   ]
  },
  {
   "attachments": {},
   "cell_type": "markdown",
   "metadata": {},
   "source": [
    "#### $H_{{0}}$ : Bagian awal kolom residual sugar tidak memiliki variansi yang sama dengan bagian akhirnya (${{\\sigma^2_1}}$ = ${{\\sigma^2_2}}$) \n",
    "#### $H_{{1}}$ : Bagian awal kolom residual sugar tidak memiliki variansi yang sama dengan bagian akhirnya (${{\\sigma^2_1}}$ ${{\\neq}}$ ${{\\sigma^2_2}}$)"
   ]
  },
  {
   "cell_type": "code",
   "execution_count": 136,
   "metadata": {},
   "outputs": [
    {
     "data": {
      "text/markdown": [
       "### $f_{}$ : 0.000000"
      ],
      "text/plain": [
       "<IPython.core.display.Markdown object>"
      ]
     },
     "metadata": {},
     "output_type": "display_data"
    },
    {
     "data": {
      "text/markdown": [
       "### $P$ : 0.028711"
      ],
      "text/plain": [
       "<IPython.core.display.Markdown object>"
      ]
     },
     "metadata": {},
     "output_type": "display_data"
    },
    {
     "data": {
      "text/markdown": [
       "### $f_{\\alpha / 2} (v_1, v_2)$ = 1.1920574017201653"
      ],
      "text/plain": [
       "<IPython.core.display.Markdown object>"
      ]
     },
     "metadata": {},
     "output_type": "display_data"
    },
    {
     "data": {
      "text/markdown": [
       "### $f_{1 - \\alpha / 2} (v_1, v_2)$ = 0.8388857772763105"
      ],
      "text/plain": [
       "<IPython.core.display.Markdown object>"
      ]
     },
     "metadata": {},
     "output_type": "display_data"
    },
    {
     "data": {
      "text/markdown": [
       "### Keputusan: Tidak menolak $H_0$ dikarenakan $f$ tidak berada pada *critical section* ($ 0.8388857772763105 ≤ z ≤ 1.1920574017201653$)"
      ],
      "text/plain": [
       "<IPython.core.display.Markdown object>"
      ]
     },
     "metadata": {},
     "output_type": "display_data"
    },
    {
     "data": {
      "text/markdown": [
       "### Tes Signifikan: Tidak menolak $H_0$ dikarenakan $p$ lebih besar atau sama dengan tingkat signifikan yang diinginkan ($p >= 0.05$)"
      ],
      "text/plain": [
       "<IPython.core.display.Markdown object>"
      ]
     },
     "metadata": {},
     "output_type": "display_data"
    },
    {
     "data": {
      "text/markdown": [
       "### Jadi, variansi pada bagian awal kolom Sulfate sama dengan variansi pada bagian akhir kolom Sulfate"
      ],
      "text/plain": [
       "<IPython.core.display.Markdown object>"
      ]
     },
     "metadata": {},
     "output_type": "display_data"
    }
   ],
   "source": [
    "alpha = 0.05\n",
    "var1 = len(df[\"volatile acidity\"][:len(df) // 2]) - 1\n",
    "var2 = len(df[\"volatile acidity\"][len(df) // 2:]) - 1\n",
    "\n",
    "f = df[\"volatile acidity\"][:len(df) // 2].var() / df[\"volatile acidity\"][len(df) // 2:].var() \n",
    "p = st.f.cdf(f, var1, var2)\n",
    "# print(p)\n",
    "\n",
    "display(Markdown((f\"### $f_{{}}$ : %f\" %(z))))\n",
    "display(Markdown((f\"### $P$ : %f\" %(p))))\n",
    "\n",
    "fUpper = st.f.ppf(1 - alpha / 2, var1, var2)\n",
    "fLower = st.f.ppf(alpha / 2, var1, var2)\n",
    "\n",
    "# print(fUpper)\n",
    "# print(fLower)\n",
    "\n",
    "display(Markdown(f\"### $f_{{\\\\alpha / 2}} (v_1, v_2)$ = {fUpper}\"))\n",
    "display(Markdown(f\"### $f_{{1 - \\\\alpha / 2}} (v_1, v_2)$ = {fLower}\"))\n",
    "\n",
    "if(f < -fLower or f > fUpper):\n",
    "    display(Markdown(f\"### Keputusan: Tolak $H_0$ dikarenakan $f$ berada pada *critical section* ($f < {fLower}$ atau $f > {fUpper}$)\"))\n",
    "    display(Markdown(f\"### Tes Signifikan: Tolak $H_0$ dikarenakan $p$ lebih kecil dari tingkat signifikan yang diinginkan ($p < {alpha}$)\"))\n",
    "    display(Markdown(f\"### Jadi, variansi pada bagian awal kolom Sulfate tidak sama dengan variansi pada bagian akhir kolom Sulfate\"))\n",
    "else:\n",
    "    display(Markdown(f\"### Keputusan: Tidak menolak $H_0$ dikarenakan $f$ tidak berada pada *critical section* ($ {fLower} ≤ z ≤ {fUpper}$)\"))\n",
    "    display(Markdown(f\"### Tes Signifikan: Tidak menolak $H_0$ dikarenakan $p$ lebih besar atau sama dengan tingkat signifikan yang diinginkan ($p >= {alpha}$)\"))\n",
    "    display(Markdown(f\"### Jadi, variansi pada bagian awal kolom Sulfate sama dengan variansi pada bagian akhir kolom Sulfate\"))"
   ]
  },
  {
   "attachments": {},
   "cell_type": "markdown",
   "metadata": {},
   "source": [
    "## Proporsi nilai setengah bagian awal alcohol yang lebih dari 7 adalah lebih besar daripada proporsi nilai yang sama di setengah bagian akhir alcohol?"
   ]
  },
  {
   "attachments": {},
   "cell_type": "markdown",
   "metadata": {},
   "source": [
    "#### $H_{{0}}$ : Proporsi nilai setengah bagian awal alcohol yang lebih dari 7 tidak lebih besar daripada proporsi nilai yang sama di setengah bagian akhir alcohol (${{p_1}}$ - ${{p_2}}$ = 0)\n",
    "#### $H_{{1}}$ : Proporsi nilai setengah bagian awal alcohol yang lebih dari 7 lebih besar daripada proporsi nilai yang sama di setengah bagian akhir alcohol (${{p_1}}$ - ${{p_2}}$ > 0)"
   ]
  },
  {
   "cell_type": "code",
   "execution_count": 135,
   "metadata": {},
   "outputs": [
    {
     "data": {
      "text/markdown": [
       "### $Z_{value}$ : 0.000000"
      ],
      "text/plain": [
       "<IPython.core.display.Markdown object>"
      ]
     },
     "metadata": {},
     "output_type": "display_data"
    },
    {
     "data": {
      "text/markdown": [
       "### $Z_{\\alpha}$ : 1.644854"
      ],
      "text/plain": [
       "<IPython.core.display.Markdown object>"
      ]
     },
     "metadata": {},
     "output_type": "display_data"
    },
    {
     "data": {
      "text/markdown": [
       "### $P$ : 0.500000"
      ],
      "text/plain": [
       "<IPython.core.display.Markdown object>"
      ]
     },
     "metadata": {},
     "output_type": "display_data"
    },
    {
     "data": {
      "text/markdown": [
       "### Keputusan: Tidak menolak $H_0$ dikarenakan $z$ tidak berada pada *critical section* ($z <= 1.6448536269514722$)"
      ],
      "text/plain": [
       "<IPython.core.display.Markdown object>"
      ]
     },
     "metadata": {},
     "output_type": "display_data"
    },
    {
     "data": {
      "text/markdown": [
       "### Tes Signifikans: Tidak menolak $H_0$ dikarenakan $p$ lebih besar atau sama dengan tingkat signifikan yang diinginkan ($p ≥ 0.05$)"
      ],
      "text/plain": [
       "<IPython.core.display.Markdown object>"
      ]
     },
     "metadata": {},
     "output_type": "display_data"
    },
    {
     "data": {
      "text/markdown": [
       "### Jadi, proporsi nilai bagian awal Turbidity yang lebih dari 7 sama besar dengan proporsi nilai yang sama pada di bagian akhir Turbidity ($p_{1} - p_{2} = 0$)"
      ],
      "text/plain": [
       "<IPython.core.display.Markdown object>"
      ]
     },
     "metadata": {},
     "output_type": "display_data"
    }
   ],
   "source": [
    "deltaP = 0\n",
    "alpha = 0.05\n",
    "\n",
    "awal = df[\"alcohol\"][:len(df) // 2]\n",
    "akhir = df[\"alcohol\"][len(df) // 2:]\n",
    "\n",
    "z, p = proportions_ztest([len(awal[awal > 7]), len(akhir[akhir > 7])], [len(awal), len(akhir)], value=deltaP, alternative=\"larger\")\n",
    "zalpha = st.norm.ppf(1 - alpha)\n",
    "\n",
    "display(Markdown((f\"### $Z_{{value}}$ : %f\" %(z))))\n",
    "display(Markdown((f\"### $Z_{{\\\\alpha}}$ : %f\" %(zalpha))))\n",
    "display(Markdown((f\"### $P$ : %f\" %(p))))\n",
    "\n",
    "if(z  > zalpha):\n",
    "    display(Markdown(f\"### Keputusan: Tolak $H_0$ dikarenakan $z$ berada pada *critical section* ($z > {zalpha}$)\"))\n",
    "    display(Markdown(f\"### Tes Signifikan: Tolak $H_0$ dikarenakan $p$ lebih kecil dari tingkat signifikan yang diinginkan ($p < {alpha}$)\"))\n",
    "    display(Markdown(f\"### Jadi, proporsi nilai bagian awal Turbidity yang lebih dari 7 lebih besar dengan proporsi nilai yang sama pada di bagian akhir Turbidity\"))\n",
    "else:\n",
    "    display(Markdown(f\"### Keputusan: Tidak menolak $H_0$ dikarenakan $z$ tidak berada pada *critical section* ($z <= {zalpha}$)\"))\n",
    "    display(Markdown(f\"### Tes Signifikans: Tidak menolak $H_0$ dikarenakan $p$ lebih besar atau sama dengan tingkat signifikan yang diinginkan ($p ≥ {alpha}$)\"))\n",
    "    display(Markdown(f\"### Jadi, proporsi nilai bagian awal Turbidity yang lebih dari 7 sama besar dengan proporsi nilai yang sama pada di bagian akhir Turbidity ($p_{{1}} - p_{{2}} = {deltaP}$)\"))"
   ]
  }
 ],
 "metadata": {
  "kernelspec": {
   "display_name": "Python 3.8.8 ('base')",
   "language": "python",
   "name": "python3"
  },
  "language_info": {
   "codemirror_mode": {
    "name": "ipython",
    "version": 3
   },
   "file_extension": ".py",
   "mimetype": "text/x-python",
   "name": "python",
   "nbconvert_exporter": "python",
   "pygments_lexer": "ipython3",
   "version": "3.8.8"
  },
  "orig_nbformat": 4,
  "vscode": {
   "interpreter": {
    "hash": "b5502732230f39196c3305efb3a45939ee6c4d266ed31b042249319273ab5a63"
   }
  }
 },
 "nbformat": 4,
 "nbformat_minor": 2
}
